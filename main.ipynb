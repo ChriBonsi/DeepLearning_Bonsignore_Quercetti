{
 "cells": [
  {
   "metadata": {
    "id": "cc8ec5f583058156"
   },
   "cell_type": "markdown",
   "source": [
    "1-import\n",
    "2-download dataset\n",
    "3-check dataset\n",
    "4-check data for imbalance\n",
    "5-Image preprocessing\n",
    "6-build model\n",
    "7-train and save model\n",
    "8-test model and plot results"
   ],
   "id": "cc8ec5f583058156"
  },
  {
   "cell_type": "code",
   "id": "initial_id",
   "metadata": {
    "collapsed": true,
    "id": "initial_id"
   },
   "source": [
    "#Imports\n",
    "\n",
    "import numpy as np\n",
    "import pandas as pd\n",
    "import matplotlib.pyplot as plt\n",
    "from keras import Sequential\n",
    "\n",
    "plt.style.use('ggplot')\n",
    "import os\n",
    "import tensorflow as tf\n",
    "import kagglehub\n",
    "from keras.src.optimizers import Adam\n",
    "from keras.src.layers import Conv2D, MaxPooling2D, Flatten, Dense\n"
   ],
   "outputs": [],
   "execution_count": null
  },
  {
   "metadata": {
    "colab": {
     "base_uri": "https://localhost:8080/"
    },
    "id": "cc2825f5cf354207",
    "outputId": "e2dffca5-b532-48d9-f20b-ce0d4acf56f3"
   },
   "cell_type": "code",
   "source": [
    "#Download Dataset\n",
    "\n",
    "path = kagglehub.dataset_download(\"ravirajsinh45/real-life-industrial-dataset-of-casting-product\")\n",
    "print(\"Path to dataset files:\", path)"
   ],
   "id": "cc2825f5cf354207",
   "outputs": [],
   "execution_count": null
  },
  {
   "metadata": {
    "colab": {
     "base_uri": "https://localhost:8080/",
     "height": 365
    },
    "id": "ca020dbd6035ce39",
    "outputId": "e8dc5b13-70ae-4a32-b2e5-d2af6e94dfa7"
   },
   "cell_type": "code",
   "source": [
    "#Check Dataset\n",
    "\n",
    "#TODO try to put relative paths\n",
    "# Specify directory of train data\n",
    "\n",
    "train_dir = 'C:/Università/DL/DeepLearning_Bonsignore_Quercetti/dataset/casting_data/train/'\n",
    "#train_dir = \"../kaggle/input/real-life-industrial-dataset-of-casting-product/casting_data/casting_data/train/\"\n",
    "train_def_dir = train_dir + 'def_front/'  # Label: Defective\n",
    "train_ok_dir = train_dir + 'ok_front/'    # Label: OK\n",
    "\n",
    "# Specify directory of test data\n",
    "test_dir = 'C:/Università/DL/DeepLearning_Bonsignore_Quercetti/dataset/casting_data/test/'\n",
    "#test_dir = \"../kaggle/input/real-life-industrial-dataset-of-casting-product/casting_data/casting_data/test/\"\n",
    "test_def_dir = test_dir + 'def_front/'\n",
    "test_ok_dir = test_dir + 'ok_front/'\n",
    "\n",
    "# Plot samples of defective and non-defective casting\n",
    "fig, axes = plt.subplots(1, 2, figsize=(8,4))\n",
    "sample_def = plt.imread(train_def_dir+os.listdir(train_def_dir)[0])\n",
    "sample_ok = plt.imread(train_ok_dir+os.listdir(train_ok_dir)[0])\n",
    "axes[0].imshow(sample_def)\n",
    "axes[1].imshow(sample_ok)\n",
    "axes[0].set_title('Casting Sample: Defective', loc='left')\n",
    "axes[1].set_title('Casting Sample: OK', loc='left')\n",
    "axes[0].grid(False)\n",
    "axes[1].grid(False)\n",
    "plt.show()"
   ],
   "id": "ca020dbd6035ce39",
   "outputs": [],
   "execution_count": null
  },
  {
   "metadata": {
    "colab": {
     "base_uri": "https://localhost:8080/",
     "height": 606
    },
    "id": "1b5cf5f06347cdf7",
    "outputId": "5d66f2ce-347f-4491-def2-54537f3ddc26"
   },
   "cell_type": "code",
   "source": [
    "#Check Dataset for Data Imbalance\n",
    "train_len = [len(next(os.walk(train_ok_dir))[2]), len(next(os.walk(train_def_dir))[2])]\n",
    "test_len = [len(next(os.walk(test_ok_dir))[2]), len(next(os.walk(test_def_dir))[2])]\n",
    "ok_pct = (train_len[0]+test_len[0]) / (train_len[0] + test_len[0] + train_len[1] + test_len[1]) * 100\n",
    "def_pct = (train_len[1]+test_len[1]) / (train_len[0] + test_len[0] + train_len[1] + test_len[1]) * 100\n",
    "\n",
    "labels = [f'OK ({ok_pct:.2f}%)', f'Defective ({def_pct:.2f}%)']\n",
    "\n",
    "x = range(len(labels))\n",
    "\n",
    "plt.figure(figsize=(8, 6))\n",
    "plt.bar(x, train_len, label='Training Set')\n",
    "plt.bar(x, test_len, bottom=train_len, label='Test Set')\n",
    "\n",
    "plt.xticks(x, labels)\n",
    "plt.ylabel('Number of Files')\n",
    "plt.title('File Distribution by Label and Dataset')\n",
    "plt.legend()\n",
    "\n",
    "plt.tight_layout()\n",
    "plt.show()\n"
   ],
   "id": "1b5cf5f06347cdf7",
   "outputs": [],
   "execution_count": null
  },
  {
   "cell_type": "code",
   "source": [
    "#Image preprocessing\n",
    "\n",
    "from tensorflow.keras.preprocessing.image import ImageDataGenerator"
   ],
   "metadata": {
    "id": "UimfQ5ZGpWLN"
   },
   "id": "UimfQ5ZGpWLN",
   "outputs": [],
   "execution_count": null
  },
  {
   "cell_type": "code",
   "source": [
    "train_generator = ImageDataGenerator(rescale=1./255, validation_split=0.2)\n",
    "test_generator = ImageDataGenerator(rescale=1./255)"
   ],
   "metadata": {
    "id": "NAtYHwE7qgEt"
   },
   "id": "NAtYHwE7qgEt",
   "outputs": [],
   "execution_count": null
  },
  {
   "cell_type": "code",
   "source": [
    "# Specify parameters/arguments for data generation\n",
    "\n",
    "img_size, batch_size, rand_seed = (300, 300), 64, 0\n",
    "\n",
    "arg_train = {'target_size': img_size,\n",
    "             'color_mode': 'grayscale',\n",
    "             'classes': {'ok_front': 0,\n",
    "                         'def_front': 1},\n",
    "             'class_mode': 'binary',\n",
    "             'batch_size': batch_size,\n",
    "             'seed': rand_seed}\n",
    "\n",
    "arg_test = {'target_size': img_size,\n",
    "            'color_mode': 'grayscale',\n",
    "            'classes': {'ok_front': 0,\n",
    "                        'def_front': 1},\n",
    "            'class_mode': 'binary',\n",
    "            'batch_size': batch_size,\n",
    "            'seed': rand_seed,\n",
    "            'shuffle': False}"
   ],
   "metadata": {
    "id": "Z9vP1Q16xmM2"
   },
   "id": "Z9vP1Q16xmM2",
   "outputs": [],
   "execution_count": null
  },
  {
   "cell_type": "code",
   "source": [
    "# Generate data by iterating through directories\n",
    "train_set = train_generator.flow_from_directory(\n",
    "    directory=train_dir, subset='training', **arg_train)\n",
    "\n",
    "valid_set = train_generator.flow_from_directory(\n",
    "    directory=train_dir, subset='validation', **arg_train)\n",
    "\n",
    "test_set = test_generator.flow_from_directory(\n",
    "    directory=test_dir, **arg_test)"
   ],
   "metadata": {
    "colab": {
     "base_uri": "https://localhost:8080/"
    },
    "id": "bvT0Dh0nrUrJ",
    "outputId": "0d76fa0e-1717-4e52-bd30-4d1e04e9d34a"
   },
   "id": "bvT0Dh0nrUrJ",
   "outputs": [],
   "execution_count": null
  },
  {
   "cell_type": "code",
   "source": [
    "# Define CNN model architecture\n",
    "cnn_model = Sequential([\n",
    "    # First block\n",
    "    Conv2D(32, 3, activation='relu', padding='same', strides=2, input_shape=img_size+(1,)),\n",
    "    MaxPooling2D(pool_size=2, strides=2),\n",
    "\n",
    "    # Second block\n",
    "    Conv2D(64, 3, activation='relu', padding='same', strides=2),\n",
    "    MaxPooling2D(pool_size=2, strides=2),\n",
    "\n",
    "    # Flatenning\n",
    "    Flatten(),\n",
    "\n",
    "    # Fully connected layers\n",
    "    Dense(128, activation='relu'),\n",
    "    Dense(1, activation='sigmoid')        # Only 1 output\n",
    "])\n",
    "\n",
    "# Compile model\n",
    "cnn_model.compile(\n",
    "    optimizer=Adam(learning_rate=0.001),  # Default lr\n",
    "    loss='binary_crossentropy',\n",
    "    metrics=['accuracy'])"
   ],
   "metadata": {
    "id": "GVGgdVmEw4ey"
   },
   "id": "GVGgdVmEw4ey",
   "outputs": [],
   "execution_count": null
  }
 ],
 "metadata": {
  "kernelspec": {
   "display_name": "Python 3",
   "language": "python",
   "name": "python3"
  },
  "language_info": {
   "codemirror_mode": {
    "name": "ipython",
    "version": 2
   },
   "file_extension": ".py",
   "mimetype": "text/x-python",
   "name": "python",
   "nbconvert_exporter": "python",
   "pygments_lexer": "ipython2",
   "version": "2.7.6"
  },
  "colab": {
   "provenance": []
  }
 },
 "nbformat": 4,
 "nbformat_minor": 5
}
