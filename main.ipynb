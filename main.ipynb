{
 "cells": [
  {
   "cell_type": "code",
   "id": "initial_id",
   "metadata": {
    "collapsed": true,
    "id": "initial_id"
   },
   "source": [
    "#Imports\n",
    "import matplotlib.pyplot as plt\n",
    "import numpy as np\n",
    "import pandas as pd\n",
    "import seaborn as sns\n",
    "import tensorflow as tf\n",
    "\n",
    "plt.style.use('ggplot')\n",
    "import os\n",
    "import keras\n",
    "\n",
    "from keras import Sequential\n",
    "from keras.src.optimizers import Adam\n",
    "from keras.src.layers import Conv2D, MaxPooling2D, Flatten, Dense\n",
    "from tensorflow.keras.preprocessing.image import ImageDataGenerator\n",
    "from keras.src.callbacks import ModelCheckpoint\n",
    "from keras.src.saving import load_model\n",
    "from sklearn.metrics import confusion_matrix, classification_report"
   ],
   "outputs": [],
   "execution_count": null
  },
  {
   "metadata": {
    "colab": {
     "base_uri": "https://localhost:8080/"
    },
    "id": "cc2825f5cf354207",
    "outputId": "e2dffca5-b532-48d9-f20b-ce0d4acf56f3"
   },
   "cell_type": "code",
   "source": [
    "#Download Dataset\n",
    "\n",
    "# path = kagglehub.dataset_download(\"ravirajsinh45/real-life-industrial-dataset-of-casting-product\")\n",
    "#print(\"Path to dataset files:\", path)"
   ],
   "id": "cc2825f5cf354207",
   "outputs": [],
   "execution_count": null
  },
  {
   "metadata": {
    "colab": {
     "base_uri": "https://localhost:8080/",
     "height": 365
    },
    "id": "ca020dbd6035ce39",
    "outputId": "e8dc5b13-70ae-4a32-b2e5-d2af6e94dfa7"
   },
   "cell_type": "code",
   "source": [
    "#Check Dataset\n",
    "# Specify directory of train data\n",
    "\n",
    "train_dir = 'dataset/casting_data/train/'\n",
    "#train_dir = \"../kaggle/input/real-life-industrial-dataset-of-casting-product/casting_data/casting_data/train/\"\n",
    "train_def_dir = train_dir + 'def_front/'  # Label: Defective\n",
    "train_ok_dir = train_dir + 'ok_front/'  # Label: OK\n",
    "\n",
    "# Specify directory of test data\n",
    "test_dir = 'dataset/casting_data/test/'\n",
    "#test_dir = \"../kaggle/input/real-life-industrial-dataset-of-casting-product/casting_data/casting_data/test/\"\n",
    "test_def_dir = test_dir + 'def_front/'\n",
    "test_ok_dir = test_dir + 'ok_front/'\n",
    "\n",
    "# Plot samples of defective and non-defective casting\n",
    "fig, axes = plt.subplots(1, 2, figsize=(8, 4))\n",
    "sample_def = plt.imread(train_def_dir + os.listdir(train_def_dir)[0])\n",
    "sample_ok = plt.imread(train_ok_dir + os.listdir(train_ok_dir)[0])\n",
    "axes[0].imshow(sample_def)\n",
    "axes[1].imshow(sample_ok)\n",
    "axes[0].set_title('Casting Sample: Defective', loc='left')\n",
    "axes[1].set_title('Casting Sample: OK', loc='left')\n",
    "axes[0].grid(False)\n",
    "axes[1].grid(False)\n",
    "plt.show()"
   ],
   "id": "ca020dbd6035ce39",
   "outputs": [],
   "execution_count": null
  },
  {
   "metadata": {
    "colab": {
     "base_uri": "https://localhost:8080/",
     "height": 606
    },
    "id": "1b5cf5f06347cdf7",
    "outputId": "5d66f2ce-347f-4491-def2-54537f3ddc26"
   },
   "cell_type": "code",
   "source": [
    "#Check Dataset for Data Imbalance\n",
    "train_len = [len(next(os.walk(train_ok_dir))[2]), len(next(os.walk(train_def_dir))[2])]\n",
    "test_len = [len(next(os.walk(test_ok_dir))[2]), len(next(os.walk(test_def_dir))[2])]\n",
    "ok_pct = (train_len[0] + test_len[0]) / (train_len[0] + test_len[0] + train_len[1] + test_len[1]) * 100\n",
    "def_pct = (train_len[1] + test_len[1]) / (train_len[0] + test_len[0] + train_len[1] + test_len[1]) * 100\n",
    "\n",
    "labels = [f'OK ({ok_pct:.2f}%)', f'Defective ({def_pct:.2f}%)']\n",
    "\n",
    "x = range(len(labels))\n",
    "\n",
    "plt.figure(figsize=(8, 6))\n",
    "plt.bar(x, train_len, label='Training Set')\n",
    "plt.bar(x, test_len, bottom=train_len, label='Test Set')\n",
    "\n",
    "plt.xticks(x, labels)\n",
    "plt.ylabel('Number of Files')\n",
    "plt.title('File Distribution by Label and Dataset')\n",
    "plt.legend()\n",
    "\n",
    "plt.tight_layout()\n",
    "plt.show()\n"
   ],
   "id": "1b5cf5f06347cdf7",
   "outputs": [],
   "execution_count": null
  },
  {
   "cell_type": "code",
   "source": [
    "train_generator = ImageDataGenerator(rescale=1. / 255, validation_split=0.2)\n",
    "test_generator = ImageDataGenerator(rescale=1. / 255)"
   ],
   "metadata": {
    "id": "NAtYHwE7qgEt"
   },
   "id": "NAtYHwE7qgEt",
   "outputs": [],
   "execution_count": null
  },
  {
   "cell_type": "code",
   "source": [
    "# Specify parameters/arguments for data generation\n",
    "\n",
    "img_size, batch_size, rand_seed = (300, 300), 64, 0\n",
    "\n",
    "arg_train = {'target_size': img_size,\n",
    "             'color_mode': 'grayscale',\n",
    "             'classes': {'ok_front': 0,\n",
    "                         'def_front': 1},\n",
    "             'class_mode': 'binary',\n",
    "             'batch_size': batch_size,\n",
    "             'seed': rand_seed}\n",
    "\n",
    "arg_test = {'target_size': img_size,\n",
    "            'color_mode': 'grayscale',\n",
    "            'classes': {'ok_front': 0,\n",
    "                        'def_front': 1},\n",
    "            'class_mode': 'binary',\n",
    "            'batch_size': batch_size,\n",
    "            'seed': rand_seed,\n",
    "            'shuffle': False}"
   ],
   "metadata": {
    "id": "Z9vP1Q16xmM2"
   },
   "id": "Z9vP1Q16xmM2",
   "outputs": [],
   "execution_count": null
  },
  {
   "cell_type": "code",
   "source": [
    "# Generate data by iterating through directories\n",
    "train_set = train_generator.flow_from_directory(\n",
    "    directory=train_dir, subset='training', **arg_train)\n",
    "\n",
    "valid_set = train_generator.flow_from_directory(\n",
    "    directory=train_dir, subset='validation', **arg_train)\n",
    "\n",
    "test_set = test_generator.flow_from_directory(\n",
    "    directory=test_dir, **arg_test)"
   ],
   "metadata": {
    "colab": {
     "base_uri": "https://localhost:8080/"
    },
    "id": "bvT0Dh0nrUrJ",
    "outputId": "0d76fa0e-1717-4e52-bd30-4d1e04e9d34a"
   },
   "id": "bvT0Dh0nrUrJ",
   "outputs": [],
   "execution_count": null
  },
  {
   "cell_type": "code",
   "source": [
    "# Define CNN model architecture\n",
    "cnn_model = Sequential([\n",
    "    # First block\n",
    "    Conv2D(32, 3, activation='relu', padding='same', strides=2, input_shape=img_size + (1,)),\n",
    "    MaxPooling2D(pool_size=2, strides=2),\n",
    "\n",
    "    # Second block\n",
    "    Conv2D(64, 3, activation='relu', padding='same', strides=2),\n",
    "    MaxPooling2D(pool_size=2, strides=2),\n",
    "\n",
    "    # Flatenning\n",
    "    Flatten(),\n",
    "\n",
    "    # Fully connected layers\n",
    "    Dense(128, activation='relu'),\n",
    "    Dense(1, activation='sigmoid')  # Only 1 output\n",
    "])\n",
    "\n",
    "# Compile model\n",
    "cnn_model.compile(\n",
    "    optimizer=Adam(learning_rate=0.001),  # Default lr\n",
    "    loss='binary_crossentropy',\n",
    "    metrics=['accuracy'])\n",
    "\n",
    "# Display summary of model architecture\n",
    "cnn_model.summary()"
   ],
   "metadata": {
    "id": "GVGgdVmEw4ey"
   },
   "id": "GVGgdVmEw4ey",
   "outputs": [],
   "execution_count": null
  },
  {
   "metadata": {},
   "cell_type": "code",
   "source": [
    "# Fit model using train set and validation set\n",
    "n_epochs = 20\n",
    "cnn_model.fit(\n",
    "    train_set,\n",
    "    validation_data=valid_set,\n",
    "    epochs=n_epochs,\n",
    "    callbacks=ModelCheckpoint(\n",
    "        'models/CNN_Casting_Inspection.keras',\n",
    "        save_best_only=True,\n",
    "        monitor='val_loss'),\n",
    "    verbose=1)"
   ],
   "id": "8620daf15092c0b4",
   "outputs": [],
   "execution_count": null
  },
  {
   "metadata": {},
   "cell_type": "code",
   "source": [
    "# Plot learning curve from model history\n",
    "histo_dict = cnn_model.history.history\n",
    "histo_df = pd.DataFrame(histo_dict, index=range(1, n_epochs + 1))\n",
    "fig, ax = plt.subplots(figsize=(8, 5))\n",
    "for m in histo_df.columns:\n",
    "    ax.plot(histo_df.index, m, data=histo_df)\n",
    "ax.set_xlabel('Epoch')\n",
    "ax.set_title('Learning Curve', loc='left', weight='bold')\n",
    "ax.legend()\n",
    "plt.show()"
   ],
   "id": "e4c5f4f05916fc06",
   "outputs": [],
   "execution_count": null
  },
  {
   "metadata": {},
   "cell_type": "code",
   "source": [
    "# Load saved model\n",
    "best_model = load_model('models/CNN_Casting_Inspection.keras')\n",
    "\n",
    "# Make predictions on images in the test set\n",
    "y_pred_prob = best_model.predict(test_set, verbose=1)\n",
    "y_pred = (y_pred_prob >= 0.5).reshape(-1, )\n",
    "y_true = test_set.classes[test_set.index_array]"
   ],
   "id": "f90578a08ed95aa3",
   "outputs": [],
   "execution_count": null
  },
  {
   "metadata": {},
   "cell_type": "code",
   "source": [
    "# Visualize the confusion matrix\n",
    "fig, ax = plt.subplots(figsize=(4, 3))\n",
    "ax = sns.heatmap(confusion_matrix(y_true, y_pred), annot=True,\n",
    "                 annot_kws={'size': 14, 'weight': 'bold'},\n",
    "                 fmt='d', cbar=False, cmap='Blues')\n",
    "ax.set_xticklabels(['OK', 'Defective'])\n",
    "ax.set_yticklabels(['OK', 'Defective'], va='center')\n",
    "plt.tick_params(axis='both', labelsize=14, length=0)\n",
    "plt.ylabel('Actual', size=14, weight='bold')\n",
    "plt.xlabel('Predicted', size=14, weight='bold')\n",
    "plt.show()"
   ],
   "id": "7bf92736c3be3030",
   "outputs": [],
   "execution_count": null
  },
  {
   "metadata": {},
   "cell_type": "code",
   "source": "print(classification_report(y_true, y_pred, digits=4))",
   "id": "1afcb183459c77b8",
   "outputs": [],
   "execution_count": null
  },
  {
   "metadata": {},
   "cell_type": "code",
   "source": [
    "class_map = {0: 'OK', 1: 'Defective'}\n",
    "images, labels = next(iter(test_set))\n",
    "images = images.reshape(batch_size, *img_size)\n",
    "\n",
    "fig, axes = plt.subplots(1, 3, figsize=(9, 4))\n",
    "fig.suptitle('Prediction on Test Images', y=0.98, weight='bold', size=14)\n",
    "for ax, img, label in zip(axes.flat, images, labels):\n",
    "    ax.imshow(img, cmap='gray')\n",
    "    [[pred_prob]] = best_model.predict(img.reshape(1, *img_size, -1))\n",
    "    pred_label = class_map[int(pred_prob >= 0.5)]\n",
    "    true_label = class_map[label]\n",
    "    prob_class = 100 * pred_prob if pred_label == 'Defective' else 100 * (1 - pred_prob)\n",
    "    ax.set_title(f'Actual: {true_label}', size=12)\n",
    "    ax.set_xlabel(f'Predicted: {pred_label} ({prob_class:.2f}%)',\n",
    "                  color='g' if pred_label == true_label else 'r')\n",
    "    ax.set_xticks([])\n",
    "    ax.set_yticks([])\n",
    "plt.tight_layout()\n",
    "plt.show()"
   ],
   "id": "394cf8c19367bc73",
   "outputs": [],
   "execution_count": null
  },
  {
   "metadata": {},
   "cell_type": "code",
   "source": [
    "misclassified = np.nonzero(y_pred != y_true)[0]\n",
    "batch_num = misclassified // batch_size\n",
    "image_num = misclassified % batch_size\n",
    "\n",
    "fig, axes = plt.subplots(1, 2, figsize=(12, 4))\n",
    "fig.suptitle('Misclassified Test Images', y=0.98, weight='bold', size=14)\n",
    "for ax, bnum, inum in zip(axes.flat, batch_num, image_num):\n",
    "    images, labels = test_set[bnum]\n",
    "    img = images[inum]\n",
    "    ax.imshow(img.reshape(*img_size), cmap='gray')\n",
    "    [[pred_prob]] = best_model.predict(img.reshape(1, *img_size, -1))\n",
    "    pred_label = class_map[int(pred_prob >= 0.5)]\n",
    "    true_label = class_map[labels[inum]]\n",
    "    prob_class = 100 * pred_prob if pred_label == 'Defective' else 100 * (1 - pred_prob)\n",
    "    ax.set_title(f'Actual: {true_label}', size=12)\n",
    "    ax.set_xlabel(f'Predicted: {pred_label} ({prob_class:.2f}%)',\n",
    "                  color='g' if pred_label == true_label else 'r')\n",
    "    ax.set_xticks([])\n",
    "    ax.set_yticks([])\n",
    "plt.tight_layout()\n",
    "plt.show()"
   ],
   "id": "aa3a93e798b1bc10",
   "outputs": [],
   "execution_count": null
  }
 ],
 "metadata": {
  "kernelspec": {
   "display_name": "Python 3",
   "language": "python",
   "name": "python3"
  },
  "language_info": {
   "codemirror_mode": {
    "name": "ipython",
    "version": 2
   },
   "file_extension": ".py",
   "mimetype": "text/x-python",
   "name": "python",
   "nbconvert_exporter": "python",
   "pygments_lexer": "ipython2",
   "version": "2.7.6"
  },
  "colab": {
   "provenance": []
  }
 },
 "nbformat": 4,
 "nbformat_minor": 5
}
