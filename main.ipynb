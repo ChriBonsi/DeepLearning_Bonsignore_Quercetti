{
 "cells": [
  {
   "metadata": {},
   "cell_type": "markdown",
   "source": [
    "1-import\n",
    "2-download dataset\n",
    "3-check dataset\n",
    "4-check data for imbalance\n",
    "5-Image preprocessing\n",
    "6-build model\n",
    "7-train and save model\n",
    "8-test model and plot results"
   ],
   "id": "cc8ec5f583058156"
  },
  {
   "cell_type": "code",
   "id": "initial_id",
   "metadata": {
    "collapsed": true
   },
   "source": [
    "#Imports\n",
    "\n",
    "import numpy as np\n",
    "import pandas as pd\n",
    "import matplotlib.pyplot as plt\n",
    "plt.style.use('ggplot')\n",
    "import os\n",
    "import tensorflow as tf\n",
    "import kagglehub"
   ],
   "outputs": [],
   "execution_count": null
  },
  {
   "metadata": {},
   "cell_type": "code",
   "source": [
    "#Download Dataset\n",
    "\n",
    "path = kagglehub.dataset_download(\"ravirajsinh45/real-life-industrial-dataset-of-casting-product\")\n",
    "print(\"Path to dataset files:\", path)"
   ],
   "id": "cc2825f5cf354207",
   "outputs": [],
   "execution_count": null
  },
  {
   "metadata": {},
   "cell_type": "code",
   "source": [
    "#Check Dataset\n",
    "\n",
    "#TODO try to put relative paths\n",
    "# Specify directory of train data\n",
    "train_dir = 'C:/Università/DL/DeepLearning_Bonsignore_Quercetti/dataset/casting_data/train/'\n",
    "train_def_dir = train_dir + 'def_front/'  # Label: Defective\n",
    "train_ok_dir = train_dir + 'ok_front/'    # Label: OK\n",
    "\n",
    "# Specify directory of test data\n",
    "test_dir = 'C:/Università/DL/DeepLearning_Bonsignore_Quercetti/dataset/casting_data/test/'\n",
    "test_def_dir = test_dir + 'def_front/'\n",
    "test_ok_dir = test_dir + 'ok_front/'\n",
    "\n",
    "# Plot samples of defective and non-defective casting\n",
    "fig, axes = plt.subplots(1, 2, figsize=(8,4))\n",
    "sample_def = plt.imread(train_def_dir+os.listdir(train_def_dir)[0])\n",
    "sample_ok = plt.imread(train_ok_dir+os.listdir(train_ok_dir)[0])\n",
    "axes[0].imshow(sample_def)\n",
    "axes[1].imshow(sample_ok)\n",
    "axes[0].set_title('Casting Sample: Defective', loc='left')\n",
    "axes[1].set_title('Casting Sample: OK', loc='left')\n",
    "axes[0].grid(False)\n",
    "axes[1].grid(False)\n",
    "plt.show()"
   ],
   "id": "ca020dbd6035ce39",
   "outputs": [],
   "execution_count": null
  },
  {
   "metadata": {},
   "cell_type": "code",
   "source": [
    "#Check Dataset for Data Imbalance\n",
    "train_len = [len(next(os.walk(train_ok_dir))[2]), len(next(os.walk(train_def_dir))[2])]\n",
    "test_len = [len(next(os.walk(test_ok_dir))[2]), len(next(os.walk(test_def_dir))[2])]\n",
    "ok_pct = (train_len[0]+test_len[0]) / (train_len[0] + test_len[0] + train_len[1] + test_len[1]) * 100\n",
    "def_pct = (train_len[1]+test_len[1]) / (train_len[0] + test_len[0] + train_len[1] + test_len[1]) * 100\n",
    "\n",
    "labels = [f'OK ({ok_pct:.2f}%)', f'Defective ({def_pct:.2f}%)']\n",
    "\n",
    "x = range(len(labels))\n",
    "\n",
    "plt.figure(figsize=(8, 6))\n",
    "plt.bar(x, train_len, label='Training Set')\n",
    "plt.bar(x, test_len, bottom=train_len, label='Test Set')\n",
    "\n",
    "plt.xticks(x, labels)\n",
    "plt.ylabel('Number of Files')\n",
    "plt.title('File Distribution by Label and Dataset')\n",
    "plt.legend()\n",
    "\n",
    "plt.tight_layout()\n",
    "plt.show()"
   ],
   "id": "1b5cf5f06347cdf7",
   "outputs": [],
   "execution_count": null
  }
 ],
 "metadata": {
  "kernelspec": {
   "display_name": "Python 3",
   "language": "python",
   "name": "python3"
  },
  "language_info": {
   "codemirror_mode": {
    "name": "ipython",
    "version": 2
   },
   "file_extension": ".py",
   "mimetype": "text/x-python",
   "name": "python",
   "nbconvert_exporter": "python",
   "pygments_lexer": "ipython2",
   "version": "2.7.6"
  }
 },
 "nbformat": 4,
 "nbformat_minor": 5
}
